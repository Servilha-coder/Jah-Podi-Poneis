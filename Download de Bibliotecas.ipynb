{
 "cells": [
  {
   "cell_type": "markdown",
   "id": "5fea7507-8e83-427a-baf1-bf937b7ff0b4",
   "metadata": {},
   "source": [
    "# Download de Bibliotecas"
   ]
  },
  {
   "cell_type": "markdown",
   "id": "30b7949e-7204-4638-8311-eaa5385d1345",
   "metadata": {},
   "source": [
    "Caso as bibliotecas `matminer` e `pymatgen` não estejam instaladas, abaixo está o código que instala elas:"
   ]
  },
  {
   "cell_type": "code",
   "execution_count": null,
   "id": "627437a7-aaf5-41cd-8c07-f7ada20424de",
   "metadata": {},
   "outputs": [],
   "source": [
    "try:\n",
    "    import matminer\n",
    "\n",
    "except ModuleNotFoundError:\n",
    "    import sys\n",
    "    !{sys.executable} -m pip install matminer"
   ]
  },
  {
   "cell_type": "code",
   "execution_count": null,
   "id": "1c814284-715b-4e61-93e9-aa0853a8da5d",
   "metadata": {},
   "outputs": [],
   "source": [
    "try:\n",
    "    import pymatgen\n",
    "\n",
    "except ModuleNotFoundError:\n",
    "    import sys\n",
    "    !{sys.executable} -m pip install pymatgen"
   ]
  }
 ],
 "metadata": {
  "kernelspec": {
   "display_name": "ilumpy",
   "language": "python",
   "name": "ilumpy"
  },
  "language_info": {
   "codemirror_mode": {
    "name": "ipython",
    "version": 3
   },
   "file_extension": ".py",
   "mimetype": "text/x-python",
   "name": "python",
   "nbconvert_exporter": "python",
   "pygments_lexer": "ipython3",
   "version": "3.10.8"
  }
 },
 "nbformat": 4,
 "nbformat_minor": 5
}
