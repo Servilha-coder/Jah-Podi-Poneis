{
 "cells": [
  {
   "cell_type": "markdown",
   "id": "b051848e-4bcb-4f82-b0ed-2653db22c9d8",
   "metadata": {
    "tags": []
   },
   "source": [
    "# Trabalho Semestral de Aprendizado de Máquina\n",
    "## Jah'Podi Pôneis"
   ]
  },
  {
   "cell_type": "markdown",
   "id": "0bc3d9f8-94dc-4517-a1b5-b7b4e1fb1b50",
   "metadata": {},
   "source": [
    "## Introdução"
   ]
  },
  {
   "cell_type": "markdown",
   "id": "63bbfcae-cb9e-4b11-bbed-b550c2fc43f1",
   "metadata": {},
   "source": [
    "O objetivo desse trabalho é utilizar modelos e estratégias de aprendizado de máquina com a finalidade de prever o band gap de materiais de duas formas: \n",
    "\n",
    "- Utilizando como features dos modelos apenas a proporção molar dos materiais\n",
    "- Utilizando como features dos modelos a proporção molar dos materiais multiplicada pelos valores de eletronegatividade dos átomos que o compôem\n",
    "\n",
    "Queríamos saber se caso utilizássemos a eletronegatividade dos átomos que compôem esse material teríamos uma melhor predição. Essa motivação está explicada em mais detalhes no `README`. \n",
    "\n",
    "Para isso, vamos utilizar o dataset `expt_gap` da biblioteca `matminer`, que contém diversos materiais e suas propriedades termoelétricas, dentre elas a condutividade. Porém, precisaremos realizar algumas modificações no dataset, para que tenhamos os dois casos de features citados acima, sendo essa parte realizada no Tratamento do Dataset.\n",
    "\n",
    "Em seguida, vamos treinar três modelos para cada caso: baseline, regressão linear e floresta aleatória. Vamos treinar os últimos dois modelos com e sem o uso de PCA para reduzir a dimensionalidade do problema. No fim desse notebook, temos uma discussão sobre os resultados obtidos e análise das hipóteses iniciais."
   ]
  },
  {
   "cell_type": "markdown",
   "id": "78aa3e83-ad7e-4c92-bb7e-22f9f435cef1",
   "metadata": {},
   "source": [
    "Abaixo estão constantes que serão usadas durante todo o notebook."
   ]
  },
  {
   "cell_type": "code",
   "execution_count": 1,
   "id": "ac32a438-d314-4e66-a414-ef7a1c4322d2",
   "metadata": {},
   "outputs": [],
   "source": [
    "TAMANHO_TESTE = 0.1\n",
    "SEED = 7530\n",
    "NUM_FOLDS = 10\n",
    "NUM_ITERACOES = 20"
   ]
  },
  {
   "cell_type": "markdown",
   "id": "3d2d5b7d-3276-40a5-93a9-419707715278",
   "metadata": {},
   "source": [
    "### Importações"
   ]
  },
  {
   "cell_type": "markdown",
   "id": "ee0a23be-b585-45ad-941b-d4f3c0b509ec",
   "metadata": {},
   "source": [
    "Abaixo estão todas as importações que serão utilizadas ao longo do notebook."
   ]
  },
  {
   "cell_type": "code",
   "execution_count": 2,
   "id": "edc9e180-deeb-466c-9e7e-0238620edeb9",
   "metadata": {},
   "outputs": [],
   "source": [
    "import matplotlib.pyplot as plt\n",
    "\n",
    "import numpy as np\n",
    "\n",
    "from pymatgen.core import Composition \n",
    "\n",
    "from mendeleev import element\n",
    "\n",
    "from matminer.datasets import load_dataset\n",
    "\n",
    "from sklearn.model_selection import train_test_split\n",
    "from sklearn.metrics import mean_squared_error\n",
    "from sklearn.pipeline import make_pipeline\n",
    "from sklearn.preprocessing import StandardScaler\n",
    "from sklearn.decomposition import PCA\n",
    "from sklearn.model_selection import RandomizedSearchCV\n",
    "from sklearn.model_selection import GridSearchCV\n",
    "from sklearn.model_selection import cross_val_score\n",
    "from sklearn.dummy import DummyRegressor\n",
    "from sklearn.linear_model import LinearRegression\n",
    "from sklearn.ensemble import RandomForestRegressor"
   ]
  },
  {
   "cell_type": "markdown",
   "id": "7e830ca8-e798-4b40-bcc4-6c9ad46a7fc7",
   "metadata": {},
   "source": [
    "## Tratamento do Dataset "
   ]
  },
  {
   "cell_type": "markdown",
   "id": "acdffd55-1cf7-470d-8f58-50dde96ad27c",
   "metadata": {},
   "source": [
    "Destacando-se em contextos científicos e de engenharia de materiais, o Matminer é uma biblioteca Python essencial para a trabalhar com dados na área de materiais. Oferecendo grandes datasets para serem explorados. Sua funcionalidade permite a análise eficiente de dados no caso do dataset que trabalhamos, em proporção molar.  "
   ]
  },
  {
   "cell_type": "markdown",
   "id": "01606cb6-f4a1-4c44-9865-b526f9421be4",
   "metadata": {},
   "source": [
    "Primeiramente, vamos retirar as colunas que não serão utilizadas do dataframe `df`, e remover as linhas com valor `Nan`."
   ]
  },
  {
   "cell_type": "code",
   "execution_count": 3,
   "id": "75b08c84-cf10-401c-89ae-1339e44e104e",
   "metadata": {},
   "outputs": [
    {
     "data": {
      "text/html": [
       "<div>\n",
       "<style scoped>\n",
       "    .dataframe tbody tr th:only-of-type {\n",
       "        vertical-align: middle;\n",
       "    }\n",
       "\n",
       "    .dataframe tbody tr th {\n",
       "        vertical-align: top;\n",
       "    }\n",
       "\n",
       "    .dataframe thead th {\n",
       "        text-align: right;\n",
       "    }\n",
       "</style>\n",
       "<table border=\"1\" class=\"dataframe\">\n",
       "  <thead>\n",
       "    <tr style=\"text-align: right;\">\n",
       "      <th></th>\n",
       "      <th>formula</th>\n",
       "      <th>gap expt</th>\n",
       "    </tr>\n",
       "  </thead>\n",
       "  <tbody>\n",
       "    <tr>\n",
       "      <th>0</th>\n",
       "      <td>Hg0.7Cd0.3Te</td>\n",
       "      <td>0.35</td>\n",
       "    </tr>\n",
       "    <tr>\n",
       "      <th>1</th>\n",
       "      <td>CuBr</td>\n",
       "      <td>3.08</td>\n",
       "    </tr>\n",
       "    <tr>\n",
       "      <th>2</th>\n",
       "      <td>LuP</td>\n",
       "      <td>1.30</td>\n",
       "    </tr>\n",
       "    <tr>\n",
       "      <th>3</th>\n",
       "      <td>Cu3SbSe4</td>\n",
       "      <td>0.40</td>\n",
       "    </tr>\n",
       "    <tr>\n",
       "      <th>4</th>\n",
       "      <td>ZnO</td>\n",
       "      <td>3.44</td>\n",
       "    </tr>\n",
       "    <tr>\n",
       "      <th>...</th>\n",
       "      <td>...</td>\n",
       "      <td>...</td>\n",
       "    </tr>\n",
       "    <tr>\n",
       "      <th>6349</th>\n",
       "      <td>Tm2MgTl</td>\n",
       "      <td>0.00</td>\n",
       "    </tr>\n",
       "    <tr>\n",
       "      <th>6350</th>\n",
       "      <td>Nb5Ga4</td>\n",
       "      <td>0.00</td>\n",
       "    </tr>\n",
       "    <tr>\n",
       "      <th>6351</th>\n",
       "      <td>Tb2Sb5</td>\n",
       "      <td>0.00</td>\n",
       "    </tr>\n",
       "    <tr>\n",
       "      <th>6352</th>\n",
       "      <td>Lu2AlTc</td>\n",
       "      <td>0.00</td>\n",
       "    </tr>\n",
       "    <tr>\n",
       "      <th>6353</th>\n",
       "      <td>CeZnPO</td>\n",
       "      <td>0.00</td>\n",
       "    </tr>\n",
       "  </tbody>\n",
       "</table>\n",
       "<p>6354 rows × 2 columns</p>\n",
       "</div>"
      ],
      "text/plain": [
       "           formula  gap expt\n",
       "0     Hg0.7Cd0.3Te      0.35\n",
       "1             CuBr      3.08\n",
       "2              LuP      1.30\n",
       "3         Cu3SbSe4      0.40\n",
       "4              ZnO      3.44\n",
       "...            ...       ...\n",
       "6349       Tm2MgTl      0.00\n",
       "6350        Nb5Ga4      0.00\n",
       "6351        Tb2Sb5      0.00\n",
       "6352       Lu2AlTc      0.00\n",
       "6353        CeZnPO      0.00\n",
       "\n",
       "[6354 rows x 2 columns]"
      ]
     },
     "execution_count": 3,
     "metadata": {},
     "output_type": "execute_result"
    }
   ],
   "source": [
    "df = load_dataset(\"expt_gap\")\n",
    "\n",
    "df = df.dropna()\n",
    "\n",
    "df"
   ]
  },
  {
   "cell_type": "markdown",
   "id": "6ccb4e3e-3763-473b-b3c3-26268bfba6e5",
   "metadata": {},
   "source": [
    "Como é possível observar, nesse dataset. Nem todos os elementos estão com números inteiros. Portanto, nós fizemos uma decomposição de cada composto levando em consideração a proporção molar dos elementos. Por isso utilizamos a pymatgen e sua função para decompor as strings do dataset em um dicionário com os devidos valores proporcionais"
   ]
  },
  {
   "cell_type": "markdown",
   "id": "7a564a6d-351c-4904-9a7e-847999ca8dcd",
   "metadata": {},
   "source": [
    "Utilizando a função `Composition` do módulo `pymatgen.core`, vamos criar uma lista de dicicionários, `lista_dict`, em que cada chave desses dicionários são os elementos que compõem o material e seus valores são a respectiva proporção molar."
   ]
  },
  {
   "cell_type": "code",
   "execution_count": 4,
   "id": "e65d0afb-ea4a-4120-8474-9d8158bd6a7b",
   "metadata": {},
   "outputs": [],
   "source": [
    "lista_dict = []\n",
    "\n",
    "for string in df['formula']:\n",
    "    composicao = Composition(string)\n",
    "    composicao_dict = composicao.as_dict()\n",
    "    lista_dict.append(composicao_dict)"
   ]
  },
  {
   "cell_type": "markdown",
   "id": "9283948a-3e63-47ee-a3d5-b753edb0f424",
   "metadata": {},
   "source": [
    "Visualizando os primeiros itens dessa lista:"
   ]
  },
  {
   "cell_type": "code",
   "execution_count": 5,
   "id": "723058aa-6298-4d11-986f-22d1dabced79",
   "metadata": {},
   "outputs": [
    {
     "name": "stdout",
     "output_type": "stream",
     "text": [
      "[{'Hg': 0.7, 'Cd': 0.3, 'Te': 1.0}, {'Cu': 1.0, 'Br': 1.0}, {'Lu': 1.0, 'P': 1.0}, {'Cu': 3.0, 'Sb': 1.0, 'Se': 4.0}, {'Zn': 1.0, 'O': 1.0}, {'Pt': 1.0, 'Sb': 2.0}, {'Zn': 1.0, 'In': 2.0, 'S': 4.0}, {'K': 2.0, 'Cd': 3.0, 'Te': 4.0}, {'K': 4.0, 'Sn': 3.0, 'Ce': 3.0, 'S': 14.0}, {'Pb': 6.0, 'B': 2.0, 'Cr': 1.0, 'O': 12.0}]\n"
     ]
    }
   ],
   "source": [
    "print(lista_dict[0:10])"
   ]
  },
  {
   "cell_type": "markdown",
   "id": "6ff74502-3333-43c3-8dbd-1efbb38bfe9a",
   "metadata": {},
   "source": [
    "Agora, vamos criar uma coluna para cada elemento químico que foi utilizado nos materiais do dataset, inicialmente contendo apenas valores iguais a zero. "
   ]
  },
  {
   "cell_type": "code",
   "execution_count": 6,
   "id": "e2dfeacd-d7b4-470f-a389-38d6907d9023",
   "metadata": {},
   "outputs": [],
   "source": [
    "for dicionario in lista_dict: \n",
    "    for chave in dicionario:\n",
    "        df[chave] = np.zeros(len(lista_dict))"
   ]
  },
  {
   "cell_type": "markdown",
   "id": "dca72c17-100d-4ae7-afee-08697ac63211",
   "metadata": {},
   "source": [
    "Em seguida, vamos adicionar os valores de proporção molar nas novas colunas criadas no `df`. Para não ocorrer problema de sobrescrição de valores, vamos utilizar o método `df.loc` do `pandas`, que evita esse problema.  "
   ]
  },
  {
   "cell_type": "code",
   "execution_count": 7,
   "id": "b7994637-3ee5-4686-b3b9-983452c768b6",
   "metadata": {},
   "outputs": [
    {
     "data": {
      "text/html": [
       "<div>\n",
       "<style scoped>\n",
       "    .dataframe tbody tr th:only-of-type {\n",
       "        vertical-align: middle;\n",
       "    }\n",
       "\n",
       "    .dataframe tbody tr th {\n",
       "        vertical-align: top;\n",
       "    }\n",
       "\n",
       "    .dataframe thead th {\n",
       "        text-align: right;\n",
       "    }\n",
       "</style>\n",
       "<table border=\"1\" class=\"dataframe\">\n",
       "  <thead>\n",
       "    <tr style=\"text-align: right;\">\n",
       "      <th></th>\n",
       "      <th>formula</th>\n",
       "      <th>gap expt</th>\n",
       "      <th>Hg</th>\n",
       "      <th>Cd</th>\n",
       "      <th>Te</th>\n",
       "      <th>Cu</th>\n",
       "      <th>Br</th>\n",
       "      <th>Lu</th>\n",
       "      <th>P</th>\n",
       "      <th>Sb</th>\n",
       "      <th>...</th>\n",
       "      <th>Co</th>\n",
       "      <th>Nd</th>\n",
       "      <th>Ho</th>\n",
       "      <th>C</th>\n",
       "      <th>Rh</th>\n",
       "      <th>Ni</th>\n",
       "      <th>Tc</th>\n",
       "      <th>Re</th>\n",
       "      <th>Pm</th>\n",
       "      <th>Xe</th>\n",
       "    </tr>\n",
       "  </thead>\n",
       "  <tbody>\n",
       "    <tr>\n",
       "      <th>0</th>\n",
       "      <td>Hg0.7Cd0.3Te</td>\n",
       "      <td>0.35</td>\n",
       "      <td>0.7</td>\n",
       "      <td>0.3</td>\n",
       "      <td>1.0</td>\n",
       "      <td>0.0</td>\n",
       "      <td>0.0</td>\n",
       "      <td>0.0</td>\n",
       "      <td>0.0</td>\n",
       "      <td>0.0</td>\n",
       "      <td>...</td>\n",
       "      <td>0.0</td>\n",
       "      <td>0.0</td>\n",
       "      <td>0.0</td>\n",
       "      <td>0.0</td>\n",
       "      <td>0.0</td>\n",
       "      <td>0.0</td>\n",
       "      <td>0.0</td>\n",
       "      <td>0.0</td>\n",
       "      <td>0.0</td>\n",
       "      <td>0.0</td>\n",
       "    </tr>\n",
       "    <tr>\n",
       "      <th>1</th>\n",
       "      <td>CuBr</td>\n",
       "      <td>3.08</td>\n",
       "      <td>0.0</td>\n",
       "      <td>0.0</td>\n",
       "      <td>0.0</td>\n",
       "      <td>1.0</td>\n",
       "      <td>1.0</td>\n",
       "      <td>0.0</td>\n",
       "      <td>0.0</td>\n",
       "      <td>0.0</td>\n",
       "      <td>...</td>\n",
       "      <td>0.0</td>\n",
       "      <td>0.0</td>\n",
       "      <td>0.0</td>\n",
       "      <td>0.0</td>\n",
       "      <td>0.0</td>\n",
       "      <td>0.0</td>\n",
       "      <td>0.0</td>\n",
       "      <td>0.0</td>\n",
       "      <td>0.0</td>\n",
       "      <td>0.0</td>\n",
       "    </tr>\n",
       "    <tr>\n",
       "      <th>2</th>\n",
       "      <td>LuP</td>\n",
       "      <td>1.30</td>\n",
       "      <td>0.0</td>\n",
       "      <td>0.0</td>\n",
       "      <td>0.0</td>\n",
       "      <td>0.0</td>\n",
       "      <td>0.0</td>\n",
       "      <td>1.0</td>\n",
       "      <td>1.0</td>\n",
       "      <td>0.0</td>\n",
       "      <td>...</td>\n",
       "      <td>0.0</td>\n",
       "      <td>0.0</td>\n",
       "      <td>0.0</td>\n",
       "      <td>0.0</td>\n",
       "      <td>0.0</td>\n",
       "      <td>0.0</td>\n",
       "      <td>0.0</td>\n",
       "      <td>0.0</td>\n",
       "      <td>0.0</td>\n",
       "      <td>0.0</td>\n",
       "    </tr>\n",
       "    <tr>\n",
       "      <th>3</th>\n",
       "      <td>Cu3SbSe4</td>\n",
       "      <td>0.40</td>\n",
       "      <td>0.0</td>\n",
       "      <td>0.0</td>\n",
       "      <td>0.0</td>\n",
       "      <td>3.0</td>\n",
       "      <td>0.0</td>\n",
       "      <td>0.0</td>\n",
       "      <td>0.0</td>\n",
       "      <td>1.0</td>\n",
       "      <td>...</td>\n",
       "      <td>0.0</td>\n",
       "      <td>0.0</td>\n",
       "      <td>0.0</td>\n",
       "      <td>0.0</td>\n",
       "      <td>0.0</td>\n",
       "      <td>0.0</td>\n",
       "      <td>0.0</td>\n",
       "      <td>0.0</td>\n",
       "      <td>0.0</td>\n",
       "      <td>0.0</td>\n",
       "    </tr>\n",
       "    <tr>\n",
       "      <th>4</th>\n",
       "      <td>ZnO</td>\n",
       "      <td>3.44</td>\n",
       "      <td>0.0</td>\n",
       "      <td>0.0</td>\n",
       "      <td>0.0</td>\n",
       "      <td>0.0</td>\n",
       "      <td>0.0</td>\n",
       "      <td>0.0</td>\n",
       "      <td>0.0</td>\n",
       "      <td>0.0</td>\n",
       "      <td>...</td>\n",
       "      <td>0.0</td>\n",
       "      <td>0.0</td>\n",
       "      <td>0.0</td>\n",
       "      <td>0.0</td>\n",
       "      <td>0.0</td>\n",
       "      <td>0.0</td>\n",
       "      <td>0.0</td>\n",
       "      <td>0.0</td>\n",
       "      <td>0.0</td>\n",
       "      <td>0.0</td>\n",
       "    </tr>\n",
       "    <tr>\n",
       "      <th>...</th>\n",
       "      <td>...</td>\n",
       "      <td>...</td>\n",
       "      <td>...</td>\n",
       "      <td>...</td>\n",
       "      <td>...</td>\n",
       "      <td>...</td>\n",
       "      <td>...</td>\n",
       "      <td>...</td>\n",
       "      <td>...</td>\n",
       "      <td>...</td>\n",
       "      <td>...</td>\n",
       "      <td>...</td>\n",
       "      <td>...</td>\n",
       "      <td>...</td>\n",
       "      <td>...</td>\n",
       "      <td>...</td>\n",
       "      <td>...</td>\n",
       "      <td>...</td>\n",
       "      <td>...</td>\n",
       "      <td>...</td>\n",
       "      <td>...</td>\n",
       "    </tr>\n",
       "    <tr>\n",
       "      <th>6349</th>\n",
       "      <td>Tm2MgTl</td>\n",
       "      <td>0.00</td>\n",
       "      <td>0.0</td>\n",
       "      <td>0.0</td>\n",
       "      <td>0.0</td>\n",
       "      <td>0.0</td>\n",
       "      <td>0.0</td>\n",
       "      <td>0.0</td>\n",
       "      <td>0.0</td>\n",
       "      <td>0.0</td>\n",
       "      <td>...</td>\n",
       "      <td>0.0</td>\n",
       "      <td>0.0</td>\n",
       "      <td>0.0</td>\n",
       "      <td>0.0</td>\n",
       "      <td>0.0</td>\n",
       "      <td>0.0</td>\n",
       "      <td>0.0</td>\n",
       "      <td>0.0</td>\n",
       "      <td>0.0</td>\n",
       "      <td>0.0</td>\n",
       "    </tr>\n",
       "    <tr>\n",
       "      <th>6350</th>\n",
       "      <td>Nb5Ga4</td>\n",
       "      <td>0.00</td>\n",
       "      <td>0.0</td>\n",
       "      <td>0.0</td>\n",
       "      <td>0.0</td>\n",
       "      <td>0.0</td>\n",
       "      <td>0.0</td>\n",
       "      <td>0.0</td>\n",
       "      <td>0.0</td>\n",
       "      <td>0.0</td>\n",
       "      <td>...</td>\n",
       "      <td>0.0</td>\n",
       "      <td>0.0</td>\n",
       "      <td>0.0</td>\n",
       "      <td>0.0</td>\n",
       "      <td>0.0</td>\n",
       "      <td>0.0</td>\n",
       "      <td>0.0</td>\n",
       "      <td>0.0</td>\n",
       "      <td>0.0</td>\n",
       "      <td>0.0</td>\n",
       "    </tr>\n",
       "    <tr>\n",
       "      <th>6351</th>\n",
       "      <td>Tb2Sb5</td>\n",
       "      <td>0.00</td>\n",
       "      <td>0.0</td>\n",
       "      <td>0.0</td>\n",
       "      <td>0.0</td>\n",
       "      <td>0.0</td>\n",
       "      <td>0.0</td>\n",
       "      <td>0.0</td>\n",
       "      <td>0.0</td>\n",
       "      <td>5.0</td>\n",
       "      <td>...</td>\n",
       "      <td>0.0</td>\n",
       "      <td>0.0</td>\n",
       "      <td>0.0</td>\n",
       "      <td>0.0</td>\n",
       "      <td>0.0</td>\n",
       "      <td>0.0</td>\n",
       "      <td>0.0</td>\n",
       "      <td>0.0</td>\n",
       "      <td>0.0</td>\n",
       "      <td>0.0</td>\n",
       "    </tr>\n",
       "    <tr>\n",
       "      <th>6352</th>\n",
       "      <td>Lu2AlTc</td>\n",
       "      <td>0.00</td>\n",
       "      <td>0.0</td>\n",
       "      <td>0.0</td>\n",
       "      <td>0.0</td>\n",
       "      <td>0.0</td>\n",
       "      <td>0.0</td>\n",
       "      <td>2.0</td>\n",
       "      <td>0.0</td>\n",
       "      <td>0.0</td>\n",
       "      <td>...</td>\n",
       "      <td>0.0</td>\n",
       "      <td>0.0</td>\n",
       "      <td>0.0</td>\n",
       "      <td>0.0</td>\n",
       "      <td>0.0</td>\n",
       "      <td>0.0</td>\n",
       "      <td>1.0</td>\n",
       "      <td>0.0</td>\n",
       "      <td>0.0</td>\n",
       "      <td>0.0</td>\n",
       "    </tr>\n",
       "    <tr>\n",
       "      <th>6353</th>\n",
       "      <td>CeZnPO</td>\n",
       "      <td>0.00</td>\n",
       "      <td>0.0</td>\n",
       "      <td>0.0</td>\n",
       "      <td>0.0</td>\n",
       "      <td>0.0</td>\n",
       "      <td>0.0</td>\n",
       "      <td>0.0</td>\n",
       "      <td>1.0</td>\n",
       "      <td>0.0</td>\n",
       "      <td>...</td>\n",
       "      <td>0.0</td>\n",
       "      <td>0.0</td>\n",
       "      <td>0.0</td>\n",
       "      <td>0.0</td>\n",
       "      <td>0.0</td>\n",
       "      <td>0.0</td>\n",
       "      <td>0.0</td>\n",
       "      <td>0.0</td>\n",
       "      <td>0.0</td>\n",
       "      <td>0.0</td>\n",
       "    </tr>\n",
       "  </tbody>\n",
       "</table>\n",
       "<p>6354 rows × 83 columns</p>\n",
       "</div>"
      ],
      "text/plain": [
       "           formula  gap expt   Hg   Cd   Te   Cu   Br   Lu    P   Sb  ...  \\\n",
       "0     Hg0.7Cd0.3Te      0.35  0.7  0.3  1.0  0.0  0.0  0.0  0.0  0.0  ...   \n",
       "1             CuBr      3.08  0.0  0.0  0.0  1.0  1.0  0.0  0.0  0.0  ...   \n",
       "2              LuP      1.30  0.0  0.0  0.0  0.0  0.0  1.0  1.0  0.0  ...   \n",
       "3         Cu3SbSe4      0.40  0.0  0.0  0.0  3.0  0.0  0.0  0.0  1.0  ...   \n",
       "4              ZnO      3.44  0.0  0.0  0.0  0.0  0.0  0.0  0.0  0.0  ...   \n",
       "...            ...       ...  ...  ...  ...  ...  ...  ...  ...  ...  ...   \n",
       "6349       Tm2MgTl      0.00  0.0  0.0  0.0  0.0  0.0  0.0  0.0  0.0  ...   \n",
       "6350        Nb5Ga4      0.00  0.0  0.0  0.0  0.0  0.0  0.0  0.0  0.0  ...   \n",
       "6351        Tb2Sb5      0.00  0.0  0.0  0.0  0.0  0.0  0.0  0.0  5.0  ...   \n",
       "6352       Lu2AlTc      0.00  0.0  0.0  0.0  0.0  0.0  2.0  0.0  0.0  ...   \n",
       "6353        CeZnPO      0.00  0.0  0.0  0.0  0.0  0.0  0.0  1.0  0.0  ...   \n",
       "\n",
       "       Co   Nd   Ho    C   Rh   Ni   Tc   Re   Pm   Xe  \n",
       "0     0.0  0.0  0.0  0.0  0.0  0.0  0.0  0.0  0.0  0.0  \n",
       "1     0.0  0.0  0.0  0.0  0.0  0.0  0.0  0.0  0.0  0.0  \n",
       "2     0.0  0.0  0.0  0.0  0.0  0.0  0.0  0.0  0.0  0.0  \n",
       "3     0.0  0.0  0.0  0.0  0.0  0.0  0.0  0.0  0.0  0.0  \n",
       "4     0.0  0.0  0.0  0.0  0.0  0.0  0.0  0.0  0.0  0.0  \n",
       "...   ...  ...  ...  ...  ...  ...  ...  ...  ...  ...  \n",
       "6349  0.0  0.0  0.0  0.0  0.0  0.0  0.0  0.0  0.0  0.0  \n",
       "6350  0.0  0.0  0.0  0.0  0.0  0.0  0.0  0.0  0.0  0.0  \n",
       "6351  0.0  0.0  0.0  0.0  0.0  0.0  0.0  0.0  0.0  0.0  \n",
       "6352  0.0  0.0  0.0  0.0  0.0  0.0  1.0  0.0  0.0  0.0  \n",
       "6353  0.0  0.0  0.0  0.0  0.0  0.0  0.0  0.0  0.0  0.0  \n",
       "\n",
       "[6354 rows x 83 columns]"
      ]
     },
     "execution_count": 7,
     "metadata": {},
     "output_type": "execute_result"
    }
   ],
   "source": [
    "for indice, dicionario in enumerate(lista_dict): \n",
    "    for chave in dicionario:\n",
    "        df.loc[indice, chave] = dicionario[chave]\n",
    "        \n",
    "df = df.dropna()\n",
    "\n",
    "df = df.drop('G0+', axis=1)\n",
    "\n",
    "df"
   ]
  },
  {
   "cell_type": "markdown",
   "id": "e3840fdb-32f5-4f44-aa1d-dc75c65aebf3",
   "metadata": {},
   "source": [
    "O próximo passo é criar as colunas que vão conter a proporção molar multiplicada pelo valor da eletronegatividade de cada átomo. Primeiro, vamos criar uma lista, `lista_elementos`, com todos os elementos químicos presentes no dataset. "
   ]
  },
  {
   "cell_type": "code",
   "execution_count": 8,
   "id": "e77f2e43-4960-4946-9177-f814ddf0ff51",
   "metadata": {},
   "outputs": [],
   "source": [
    "lista_elementos = []\n",
    "\n",
    "for coluna in df:\n",
    "    lista_elementos.append(coluna)\n",
    "    \n",
    "lista_elementos.remove('formula') \n",
    "lista_elementos.remove('gap expt')"
   ]
  },
  {
   "cell_type": "markdown",
   "id": "4e6605c1-2d3c-4dbb-b731-dcd60e4ea015",
   "metadata": {},
   "source": [
    "Visualizando essa lista:"
   ]
  },
  {
   "cell_type": "code",
   "execution_count": 9,
   "id": "e48e9ed3-b56a-4485-a2b9-75d42d3c84c2",
   "metadata": {},
   "outputs": [
    {
     "name": "stdout",
     "output_type": "stream",
     "text": [
      "['Hg', 'Cd', 'Te', 'Cu', 'Br', 'Lu', 'P', 'Sb', 'Se', 'Zn', 'O', 'Pt', 'In', 'S', 'K', 'Sn', 'Ce', 'Pb', 'B', 'Cr', 'Sr', 'Be', 'Nb', 'Pr', 'As', 'Ba', 'Ga', 'Ge', 'Ag', 'Rb', 'Th', 'Tl', 'Al', 'Bi', 'Au', 'Cs', 'H', 'Si', 'N', 'Gd', 'Sc', 'Mn', 'La', 'F', 'Cl', 'I', 'W', 'Eu', 'Yb', 'Tm', 'Sm', 'Na', 'Mo', 'V', 'U', 'Ta', 'Pd', 'Tb', 'Ca', 'Zr', 'Er', 'Hf', 'Y', 'Mg', 'Li', 'Os', 'Ru', 'Ti', 'Fe', 'Dy', 'Ir', 'Co', 'Nd', 'Ho', 'C', 'Rh', 'Ni', 'Tc', 'Re', 'Pm', 'Xe']\n"
     ]
    }
   ],
   "source": [
    "print(lista_elementos)"
   ]
  },
  {
   "cell_type": "markdown",
   "id": "86b22ef6-772e-4cdc-a67e-f5c8fd282421",
   "metadata": {},
   "source": [
    "A seguir, utilizamos mais uma das nossas poderosas bibliotecas a fim de obter a propriedade de eletronegatividade dos elementos. Pra isso, utilizamos a biblioteca mendeleev que contém informações da Eletronegatividade de Pauling que é uma escala que atribui valores numéricos aos elementos com base em suas propriedades químicas. Quanto maior o valor de eletronegatividade de um átomo, maior sua afinidade por elétrons."
   ]
  },
  {
   "cell_type": "markdown",
   "id": "8ad8ede9-c67c-453e-ba23-219b5d4dd530",
   "metadata": {},
   "source": [
    "Em seguida, vamos criar uma lista, `lista_en`, que contém os valores de eletronegatividade de cada átomo, com o método `element.en_pauling` do objeto `element` do módulo `mendeleev`. "
   ]
  },
  {
   "cell_type": "code",
   "execution_count": 10,
   "id": "642181a8-886f-4974-9b34-c69b83096547",
   "metadata": {},
   "outputs": [],
   "source": [
    "lista_en = [element(elemento).en_pauling for elemento in lista_elementos]\n",
    "\n",
    "lista_en[79] = 1.13\n",
    "lista_en[47] = 1.2\n",
    "lista_en[48] = 1.1\n",
    "lista_en[57] = 1.2"
   ]
  },
  {
   "cell_type": "markdown",
   "id": "13482d3f-d4a5-47e0-bd73-2ad13a315229",
   "metadata": {},
   "source": [
    "Os elementos `Eu`, `Pm`, `Yb` e `Tb` possuiam valor de eletronegatividade `None` segundo o módulo `mendeleev`, porém pesquisamos na Wikipedia os seus respectivos valores, e adicionamos eles manualmente. \n",
    "\n",
    "Por fim, criamos um dicionário, `dict_en`, que une as duas listas acima, sendo a chave um elemento químico e seu respectivo valor de eletronegatividade na escala de Pauling."
   ]
  },
  {
   "cell_type": "code",
   "execution_count": 11,
   "id": "5a65f50d-3733-4d7f-9f26-6948a49a0b16",
   "metadata": {},
   "outputs": [
    {
     "name": "stdout",
     "output_type": "stream",
     "text": [
      "{'Hg': 1.9, 'Cd': 1.69, 'Te': 2.1, 'Cu': 1.9, 'Br': 2.96, 'Lu': 1.0, 'P': 2.19, 'Sb': 2.05, 'Se': 2.55, 'Zn': 1.65, 'O': 3.44, 'Pt': 2.2, 'In': 1.78, 'S': 2.58, 'K': 0.82, 'Sn': 1.96, 'Ce': 1.12, 'Pb': 1.8, 'B': 2.04, 'Cr': 1.66, 'Sr': 0.95, 'Be': 1.57, 'Nb': 1.6, 'Pr': 1.13, 'As': 2.18, 'Ba': 0.89, 'Ga': 1.81, 'Ge': 2.01, 'Ag': 1.93, 'Rb': 0.82, 'Th': 1.3, 'Tl': 1.8, 'Al': 1.61, 'Bi': 1.9, 'Au': 2.4, 'Cs': 0.79, 'H': 2.2, 'Si': 1.9, 'N': 3.04, 'Gd': 1.2, 'Sc': 1.36, 'Mn': 1.55, 'La': 1.1, 'F': 3.98, 'Cl': 3.16, 'I': 2.66, 'W': 1.7, 'Eu': 1.2, 'Yb': 1.1, 'Tm': 1.25, 'Sm': 1.17, 'Na': 0.93, 'Mo': 2.16, 'V': 1.63, 'U': 1.7, 'Ta': 1.5, 'Pd': 2.2, 'Tb': 1.2, 'Ca': 1.0, 'Zr': 1.33, 'Er': 1.24, 'Hf': 1.3, 'Y': 1.22, 'Mg': 1.31, 'Li': 0.98, 'Os': 2.2, 'Ru': 2.2, 'Ti': 1.54, 'Fe': 1.83, 'Dy': 1.22, 'Ir': 2.2, 'Co': 1.88, 'Nd': 1.14, 'Ho': 1.23, 'C': 2.55, 'Rh': 2.28, 'Ni': 1.91, 'Tc': 2.1, 'Re': 1.9, 'Pm': 1.13, 'Xe': 2.6}\n"
     ]
    }
   ],
   "source": [
    "dict_en = {}\n",
    "\n",
    "for i in range(len(lista_elementos)):\n",
    "    dict_en.update({lista_elementos[i]:lista_en[i]})\n",
    "    \n",
    "print(dict_en)"
   ]
  },
  {
   "cell_type": "markdown",
   "id": "ed42d491-4db9-4a18-bcb5-3a8a9a036dbe",
   "metadata": {},
   "source": [
    "Finalmente, vamos criar as colunas que contém a proporção molar do material multiplicado pelo valor de eletronegaticidade de cada átomo de sua estrutura."
   ]
  },
  {
   "cell_type": "code",
   "execution_count": 12,
   "id": "631ce50e-590f-454a-abce-dc1efec64ee8",
   "metadata": {},
   "outputs": [
    {
     "data": {
      "text/html": [
       "<div>\n",
       "<style scoped>\n",
       "    .dataframe tbody tr th:only-of-type {\n",
       "        vertical-align: middle;\n",
       "    }\n",
       "\n",
       "    .dataframe tbody tr th {\n",
       "        vertical-align: top;\n",
       "    }\n",
       "\n",
       "    .dataframe thead th {\n",
       "        text-align: right;\n",
       "    }\n",
       "</style>\n",
       "<table border=\"1\" class=\"dataframe\">\n",
       "  <thead>\n",
       "    <tr style=\"text-align: right;\">\n",
       "      <th></th>\n",
       "      <th>formula</th>\n",
       "      <th>gap expt</th>\n",
       "      <th>Hg</th>\n",
       "      <th>Cd</th>\n",
       "      <th>Te</th>\n",
       "      <th>Cu</th>\n",
       "      <th>Br</th>\n",
       "      <th>Lu</th>\n",
       "      <th>P</th>\n",
       "      <th>Sb</th>\n",
       "      <th>...</th>\n",
       "      <th>Co_en</th>\n",
       "      <th>Nd_en</th>\n",
       "      <th>Ho_en</th>\n",
       "      <th>C_en</th>\n",
       "      <th>Rh_en</th>\n",
       "      <th>Ni_en</th>\n",
       "      <th>Tc_en</th>\n",
       "      <th>Re_en</th>\n",
       "      <th>Pm_en</th>\n",
       "      <th>Xe_en</th>\n",
       "    </tr>\n",
       "  </thead>\n",
       "  <tbody>\n",
       "    <tr>\n",
       "      <th>0</th>\n",
       "      <td>Hg0.7Cd0.3Te</td>\n",
       "      <td>0.35</td>\n",
       "      <td>0.7</td>\n",
       "      <td>0.3</td>\n",
       "      <td>1.0</td>\n",
       "      <td>0.0</td>\n",
       "      <td>0.0</td>\n",
       "      <td>0.0</td>\n",
       "      <td>0.0</td>\n",
       "      <td>0.0</td>\n",
       "      <td>...</td>\n",
       "      <td>0.0</td>\n",
       "      <td>0.0</td>\n",
       "      <td>0.0</td>\n",
       "      <td>0.0</td>\n",
       "      <td>0.0</td>\n",
       "      <td>0.0</td>\n",
       "      <td>0.0</td>\n",
       "      <td>0.0</td>\n",
       "      <td>0.0</td>\n",
       "      <td>0.0</td>\n",
       "    </tr>\n",
       "    <tr>\n",
       "      <th>1</th>\n",
       "      <td>CuBr</td>\n",
       "      <td>3.08</td>\n",
       "      <td>0.0</td>\n",
       "      <td>0.0</td>\n",
       "      <td>0.0</td>\n",
       "      <td>1.0</td>\n",
       "      <td>1.0</td>\n",
       "      <td>0.0</td>\n",
       "      <td>0.0</td>\n",
       "      <td>0.0</td>\n",
       "      <td>...</td>\n",
       "      <td>0.0</td>\n",
       "      <td>0.0</td>\n",
       "      <td>0.0</td>\n",
       "      <td>0.0</td>\n",
       "      <td>0.0</td>\n",
       "      <td>0.0</td>\n",
       "      <td>0.0</td>\n",
       "      <td>0.0</td>\n",
       "      <td>0.0</td>\n",
       "      <td>0.0</td>\n",
       "    </tr>\n",
       "    <tr>\n",
       "      <th>2</th>\n",
       "      <td>LuP</td>\n",
       "      <td>1.30</td>\n",
       "      <td>0.0</td>\n",
       "      <td>0.0</td>\n",
       "      <td>0.0</td>\n",
       "      <td>0.0</td>\n",
       "      <td>0.0</td>\n",
       "      <td>1.0</td>\n",
       "      <td>1.0</td>\n",
       "      <td>0.0</td>\n",
       "      <td>...</td>\n",
       "      <td>0.0</td>\n",
       "      <td>0.0</td>\n",
       "      <td>0.0</td>\n",
       "      <td>0.0</td>\n",
       "      <td>0.0</td>\n",
       "      <td>0.0</td>\n",
       "      <td>0.0</td>\n",
       "      <td>0.0</td>\n",
       "      <td>0.0</td>\n",
       "      <td>0.0</td>\n",
       "    </tr>\n",
       "    <tr>\n",
       "      <th>3</th>\n",
       "      <td>Cu3SbSe4</td>\n",
       "      <td>0.40</td>\n",
       "      <td>0.0</td>\n",
       "      <td>0.0</td>\n",
       "      <td>0.0</td>\n",
       "      <td>3.0</td>\n",
       "      <td>0.0</td>\n",
       "      <td>0.0</td>\n",
       "      <td>0.0</td>\n",
       "      <td>1.0</td>\n",
       "      <td>...</td>\n",
       "      <td>0.0</td>\n",
       "      <td>0.0</td>\n",
       "      <td>0.0</td>\n",
       "      <td>0.0</td>\n",
       "      <td>0.0</td>\n",
       "      <td>0.0</td>\n",
       "      <td>0.0</td>\n",
       "      <td>0.0</td>\n",
       "      <td>0.0</td>\n",
       "      <td>0.0</td>\n",
       "    </tr>\n",
       "    <tr>\n",
       "      <th>4</th>\n",
       "      <td>ZnO</td>\n",
       "      <td>3.44</td>\n",
       "      <td>0.0</td>\n",
       "      <td>0.0</td>\n",
       "      <td>0.0</td>\n",
       "      <td>0.0</td>\n",
       "      <td>0.0</td>\n",
       "      <td>0.0</td>\n",
       "      <td>0.0</td>\n",
       "      <td>0.0</td>\n",
       "      <td>...</td>\n",
       "      <td>0.0</td>\n",
       "      <td>0.0</td>\n",
       "      <td>0.0</td>\n",
       "      <td>0.0</td>\n",
       "      <td>0.0</td>\n",
       "      <td>0.0</td>\n",
       "      <td>0.0</td>\n",
       "      <td>0.0</td>\n",
       "      <td>0.0</td>\n",
       "      <td>0.0</td>\n",
       "    </tr>\n",
       "    <tr>\n",
       "      <th>...</th>\n",
       "      <td>...</td>\n",
       "      <td>...</td>\n",
       "      <td>...</td>\n",
       "      <td>...</td>\n",
       "      <td>...</td>\n",
       "      <td>...</td>\n",
       "      <td>...</td>\n",
       "      <td>...</td>\n",
       "      <td>...</td>\n",
       "      <td>...</td>\n",
       "      <td>...</td>\n",
       "      <td>...</td>\n",
       "      <td>...</td>\n",
       "      <td>...</td>\n",
       "      <td>...</td>\n",
       "      <td>...</td>\n",
       "      <td>...</td>\n",
       "      <td>...</td>\n",
       "      <td>...</td>\n",
       "      <td>...</td>\n",
       "      <td>...</td>\n",
       "    </tr>\n",
       "    <tr>\n",
       "      <th>6349</th>\n",
       "      <td>Tm2MgTl</td>\n",
       "      <td>0.00</td>\n",
       "      <td>0.0</td>\n",
       "      <td>0.0</td>\n",
       "      <td>0.0</td>\n",
       "      <td>0.0</td>\n",
       "      <td>0.0</td>\n",
       "      <td>0.0</td>\n",
       "      <td>0.0</td>\n",
       "      <td>0.0</td>\n",
       "      <td>...</td>\n",
       "      <td>0.0</td>\n",
       "      <td>0.0</td>\n",
       "      <td>0.0</td>\n",
       "      <td>0.0</td>\n",
       "      <td>0.0</td>\n",
       "      <td>0.0</td>\n",
       "      <td>0.0</td>\n",
       "      <td>0.0</td>\n",
       "      <td>0.0</td>\n",
       "      <td>0.0</td>\n",
       "    </tr>\n",
       "    <tr>\n",
       "      <th>6350</th>\n",
       "      <td>Nb5Ga4</td>\n",
       "      <td>0.00</td>\n",
       "      <td>0.0</td>\n",
       "      <td>0.0</td>\n",
       "      <td>0.0</td>\n",
       "      <td>0.0</td>\n",
       "      <td>0.0</td>\n",
       "      <td>0.0</td>\n",
       "      <td>0.0</td>\n",
       "      <td>0.0</td>\n",
       "      <td>...</td>\n",
       "      <td>0.0</td>\n",
       "      <td>0.0</td>\n",
       "      <td>0.0</td>\n",
       "      <td>0.0</td>\n",
       "      <td>0.0</td>\n",
       "      <td>0.0</td>\n",
       "      <td>0.0</td>\n",
       "      <td>0.0</td>\n",
       "      <td>0.0</td>\n",
       "      <td>0.0</td>\n",
       "    </tr>\n",
       "    <tr>\n",
       "      <th>6351</th>\n",
       "      <td>Tb2Sb5</td>\n",
       "      <td>0.00</td>\n",
       "      <td>0.0</td>\n",
       "      <td>0.0</td>\n",
       "      <td>0.0</td>\n",
       "      <td>0.0</td>\n",
       "      <td>0.0</td>\n",
       "      <td>0.0</td>\n",
       "      <td>0.0</td>\n",
       "      <td>5.0</td>\n",
       "      <td>...</td>\n",
       "      <td>0.0</td>\n",
       "      <td>0.0</td>\n",
       "      <td>0.0</td>\n",
       "      <td>0.0</td>\n",
       "      <td>0.0</td>\n",
       "      <td>0.0</td>\n",
       "      <td>0.0</td>\n",
       "      <td>0.0</td>\n",
       "      <td>0.0</td>\n",
       "      <td>0.0</td>\n",
       "    </tr>\n",
       "    <tr>\n",
       "      <th>6352</th>\n",
       "      <td>Lu2AlTc</td>\n",
       "      <td>0.00</td>\n",
       "      <td>0.0</td>\n",
       "      <td>0.0</td>\n",
       "      <td>0.0</td>\n",
       "      <td>0.0</td>\n",
       "      <td>0.0</td>\n",
       "      <td>2.0</td>\n",
       "      <td>0.0</td>\n",
       "      <td>0.0</td>\n",
       "      <td>...</td>\n",
       "      <td>0.0</td>\n",
       "      <td>0.0</td>\n",
       "      <td>0.0</td>\n",
       "      <td>0.0</td>\n",
       "      <td>0.0</td>\n",
       "      <td>0.0</td>\n",
       "      <td>2.1</td>\n",
       "      <td>0.0</td>\n",
       "      <td>0.0</td>\n",
       "      <td>0.0</td>\n",
       "    </tr>\n",
       "    <tr>\n",
       "      <th>6353</th>\n",
       "      <td>CeZnPO</td>\n",
       "      <td>0.00</td>\n",
       "      <td>0.0</td>\n",
       "      <td>0.0</td>\n",
       "      <td>0.0</td>\n",
       "      <td>0.0</td>\n",
       "      <td>0.0</td>\n",
       "      <td>0.0</td>\n",
       "      <td>1.0</td>\n",
       "      <td>0.0</td>\n",
       "      <td>...</td>\n",
       "      <td>0.0</td>\n",
       "      <td>0.0</td>\n",
       "      <td>0.0</td>\n",
       "      <td>0.0</td>\n",
       "      <td>0.0</td>\n",
       "      <td>0.0</td>\n",
       "      <td>0.0</td>\n",
       "      <td>0.0</td>\n",
       "      <td>0.0</td>\n",
       "      <td>0.0</td>\n",
       "    </tr>\n",
       "  </tbody>\n",
       "</table>\n",
       "<p>6354 rows × 164 columns</p>\n",
       "</div>"
      ],
      "text/plain": [
       "           formula  gap expt   Hg   Cd   Te   Cu   Br   Lu    P   Sb  ...  \\\n",
       "0     Hg0.7Cd0.3Te      0.35  0.7  0.3  1.0  0.0  0.0  0.0  0.0  0.0  ...   \n",
       "1             CuBr      3.08  0.0  0.0  0.0  1.0  1.0  0.0  0.0  0.0  ...   \n",
       "2              LuP      1.30  0.0  0.0  0.0  0.0  0.0  1.0  1.0  0.0  ...   \n",
       "3         Cu3SbSe4      0.40  0.0  0.0  0.0  3.0  0.0  0.0  0.0  1.0  ...   \n",
       "4              ZnO      3.44  0.0  0.0  0.0  0.0  0.0  0.0  0.0  0.0  ...   \n",
       "...            ...       ...  ...  ...  ...  ...  ...  ...  ...  ...  ...   \n",
       "6349       Tm2MgTl      0.00  0.0  0.0  0.0  0.0  0.0  0.0  0.0  0.0  ...   \n",
       "6350        Nb5Ga4      0.00  0.0  0.0  0.0  0.0  0.0  0.0  0.0  0.0  ...   \n",
       "6351        Tb2Sb5      0.00  0.0  0.0  0.0  0.0  0.0  0.0  0.0  5.0  ...   \n",
       "6352       Lu2AlTc      0.00  0.0  0.0  0.0  0.0  0.0  2.0  0.0  0.0  ...   \n",
       "6353        CeZnPO      0.00  0.0  0.0  0.0  0.0  0.0  0.0  1.0  0.0  ...   \n",
       "\n",
       "      Co_en  Nd_en  Ho_en  C_en  Rh_en  Ni_en  Tc_en  Re_en  Pm_en  Xe_en  \n",
       "0       0.0    0.0    0.0   0.0    0.0    0.0    0.0    0.0    0.0    0.0  \n",
       "1       0.0    0.0    0.0   0.0    0.0    0.0    0.0    0.0    0.0    0.0  \n",
       "2       0.0    0.0    0.0   0.0    0.0    0.0    0.0    0.0    0.0    0.0  \n",
       "3       0.0    0.0    0.0   0.0    0.0    0.0    0.0    0.0    0.0    0.0  \n",
       "4       0.0    0.0    0.0   0.0    0.0    0.0    0.0    0.0    0.0    0.0  \n",
       "...     ...    ...    ...   ...    ...    ...    ...    ...    ...    ...  \n",
       "6349    0.0    0.0    0.0   0.0    0.0    0.0    0.0    0.0    0.0    0.0  \n",
       "6350    0.0    0.0    0.0   0.0    0.0    0.0    0.0    0.0    0.0    0.0  \n",
       "6351    0.0    0.0    0.0   0.0    0.0    0.0    0.0    0.0    0.0    0.0  \n",
       "6352    0.0    0.0    0.0   0.0    0.0    0.0    2.1    0.0    0.0    0.0  \n",
       "6353    0.0    0.0    0.0   0.0    0.0    0.0    0.0    0.0    0.0    0.0  \n",
       "\n",
       "[6354 rows x 164 columns]"
      ]
     },
     "execution_count": 12,
     "metadata": {},
     "output_type": "execute_result"
    }
   ],
   "source": [
    "for coluna in df:\n",
    "    if coluna != 'formula' and coluna != 'gap expt':\n",
    "        df[f'{coluna}_en'] = df[coluna] * dict_en[coluna]\n",
    "        \n",
    "df"
   ]
  },
  {
   "cell_type": "markdown",
   "id": "5f7df431-969e-4a10-b83a-852493eefd39",
   "metadata": {},
   "source": [
    "Vamos agora separar os dois conjuntos de features que serão utilizados nos Casos 1 e 2: `FEATURE1` contém apenas a proporção molar do material, e `FEATURE2` contém a proporção molar multiplicada pela eletronegatividade, assim como o `TARGET`, que será o valor de condutividade de cada material, `sigma [S/cm]`."
   ]
  },
  {
   "cell_type": "code",
   "execution_count": 13,
   "id": "ce45adae-ac3f-431c-8ba7-fe51ba8f1066",
   "metadata": {},
   "outputs": [],
   "source": [
    "FEATURES1 = lista_elementos \n",
    "FEATURES2 = [f'{elemento}_en' for elemento in lista_elementos]\n",
    "TARGET = ['gap expt'] "
   ]
  },
  {
   "cell_type": "markdown",
   "id": "faada4db-915c-4901-b366-b3b5820bd194",
   "metadata": {},
   "source": [
    "## Caso 1"
   ]
  },
  {
   "cell_type": "markdown",
   "id": "2447cdba-14c4-4cea-8d40-feed8edd1ee6",
   "metadata": {},
   "source": [
    "Nesse caso vamos utilizar apenas a proporção molar dos materiais como features. Todas as variáveis nessa seção vão conter 1 no final, para facilitar a diferenciação das variáveis do Caso 2, que serão diferentes apenas por conta dos features diferentes.\n",
    "\n",
    "Todos os modelos vão utilizar a normalização padrão dos features, tanto no caso 1 quanto no caso 2, para uniformizar a proporção molar em ambos os casos. "
   ]
  },
  {
   "cell_type": "markdown",
   "id": "c6eebb34-ea02-4498-851b-0cc82eb49910",
   "metadata": {},
   "source": [
    "### Train-Test Split"
   ]
  },
  {
   "cell_type": "markdown",
   "id": "31058e82-a9cb-4f7c-b231-ff937c9e7f32",
   "metadata": {},
   "source": [
    "Realizando a separação de treino e teste com `TAMANHO_TESTE=0.1`."
   ]
  },
  {
   "cell_type": "code",
   "execution_count": 14,
   "id": "f1fff158-3f49-4c5c-bf0f-b9f33924c81d",
   "metadata": {},
   "outputs": [],
   "source": [
    "df1 = df.copy()\n",
    "\n",
    "df1 = df1.reindex(FEATURES1 + TARGET, axis=1)\n",
    "df1 = df1.dropna()  \n",
    "\n",
    "x1 = df1.reindex(FEATURES1, axis=1)\n",
    "y1 = df1.reindex(TARGET, axis=1)\n",
    "\n",
    "x1 = x1.values \n",
    "y1 = y1.values.ravel()\n",
    "\n",
    "x_treino1, x_teste1, y_treino1, y_teste1 = train_test_split(\n",
    "    x1, y1, test_size=TAMANHO_TESTE, random_state=SEED\n",
    ")"
   ]
  },
  {
   "cell_type": "markdown",
   "id": "7a1c1094-8b1f-438f-9e13-46280ab2e4a5",
   "metadata": {},
   "source": [
    "### Modelo Baseline"
   ]
  },
  {
   "cell_type": "markdown",
   "id": "62737811-829a-4af5-9b76-7b067a259af6",
   "metadata": {},
   "source": [
    "Para termos uma noção se nossos modelos estão minimamente aceitáveis vamos utilizar o modelo baseline, `dummy`,  que simplesmente vai predizer a média dos valores de condutividade dos dados de treino."
   ]
  },
  {
   "cell_type": "code",
   "execution_count": 15,
   "id": "1a5614e0-a428-45e9-b01d-2ae8f44468a8",
   "metadata": {},
   "outputs": [
    {
     "name": "stdout",
     "output_type": "stream",
     "text": [
      "O RMSE do modelo baseline foi de 1.7078501743185281\n"
     ]
    }
   ],
   "source": [
    "dummy1 = make_pipeline(\n",
    "    StandardScaler(),\n",
    "    DummyRegressor(),\n",
    ") \n",
    "\n",
    "dummy1.fit(x_treino1, y_treino1)\n",
    "y_dummy1 = dummy1.predict(x_teste1)\n",
    "rmse_dummy1 = mean_squared_error(y_dummy1, y_teste1, squared=False)\n",
    "\n",
    "print(f'O RMSE do modelo baseline foi de {rmse_dummy1}')"
   ]
  },
  {
   "cell_type": "markdown",
   "id": "48e45100-0044-45ff-bc0a-503282249dba",
   "metadata": {
    "tags": []
   },
   "source": [
    "### PCA"
   ]
  },
  {
   "cell_type": "markdown",
   "id": "e8a892c7-0a67-4794-969a-eedf7e6bcff2",
   "metadata": {},
   "source": [
    "Primeiro, vamos realizar PCA nos dados `x1` para reduzirmos a dimensionalidade do problema, mantendo 90% da variância do dataset original. O código abaixo foi retirado do notebook \"8 - Seleção de atributos.ipynb\" de aprendizado de máquina."
   ]
  },
  {
   "cell_type": "code",
   "execution_count": 16,
   "id": "1ef69d87-da96-4e70-8c3b-56e8330df6be",
   "metadata": {},
   "outputs": [
    {
     "data": {
      "image/png": "[encoded data removed]",
      "text/plain": [
       "<Figure size 800x480 with 2 Axes>"
      ]
     },
     "metadata": {},
     "output_type": "display_data"
    }
   ],
   "source": [
    "pca1 = PCA()\n",
    "\n",
    "pca1.fit(x1)\n",
    "\n",
    "autovalores1 = pca1.explained_variance_\n",
    "autovetores1 = pca1.components_.T\n",
    "\n",
    "variancia_explicada1 = pca1.explained_variance_ratio_\n",
    "\n",
    "id_componentes1 = np.arange(1, pca1.n_components_ + 1)\n",
    "\n",
    "figura1, eixos1 = plt.subplots(1, 2)\n",
    "\n",
    "eixos1[0].bar(id_componentes1, variancia_explicada1)\n",
    "eixos1[0].set(xlabel=\"Componente\", title=\"Variância explicada\", ylim=(0.0, 1.0))\n",
    "\n",
    "cv1 = np.cumsum(pca1.explained_variance_ratio_)\n",
    "eixos1[1].plot(np.r_[0, id_componentes1], np.r_[0, cv1], marker=\"o\")\n",
    "eixos1[1].set(\n",
    "    xlabel=\"Número de componentes\",\n",
    "    title=\"Variância acumulada\",\n",
    "    ylim=(0.0, 1.0),\n",
    ")\n",
    "eixos1[1].axhline(0.9, linestyle=\"--\", color=\"red\")\n",
    "\n",
    "figura1.set(figwidth=8)\n",
    "plt.show()"
   ]
  },
  {
   "cell_type": "code",
   "execution_count": 17,
   "id": "9906ca15-8fc7-4a01-9032-736b9493897e",
   "metadata": {
    "tags": []
   },
   "outputs": [
    {
     "name": "stdout",
     "output_type": "stream",
     "text": [
      "O número de PCs necessárias para termos mais que 0.9 de variância acumulada é :30\n"
     ]
    }
   ],
   "source": [
    "print(f'O número de PCs necessárias para termos mais que 0.9 de variância acumulada é :{len(cv1)-sum(cv1>0.9)}')"
   ]
  },
  {
   "cell_type": "markdown",
   "id": "4bc4ecca-a381-4a3c-88e9-288f96ebbb83",
   "metadata": {},
   "source": [
    "Para obtermos uma variância acumulada maior que 0.9, precisamos usar `NUM_COMPONENTES1=30`, nesse caso. "
   ]
  },
  {
   "cell_type": "markdown",
   "id": "353aa09d-a27a-455d-98e8-29e08c068c88",
   "metadata": {},
   "source": [
    "### Regressão Linear com PCA"
   ]
  },
  {
   "cell_type": "markdown",
   "id": "8cd44ece-b414-415c-bf9c-ae8032ac8ee7",
   "metadata": {},
   "source": [
    "Treinando um modelo de regressão linear aliado ao PCA, com ajuda da função `make_pipeline`:"
   ]
  },
  {
   "cell_type": "code",
   "execution_count": 42,
   "id": "299112a3-bd0f-44c4-bd3a-d34a12a20a75",
   "metadata": {},
   "outputs": [
    {
     "name": "stdout",
     "output_type": "stream",
     "text": [
      "O RMSE do modelo de regressão linear com PCA foi de 1.6557109123179221\n"
     ]
    }
   ],
   "source": [
    "NUM_COMPONENTES1 = 30\n",
    "\n",
    "linear_regression_pca1 = make_pipeline(\n",
    "    StandardScaler(),\n",
    "    PCA(NUM_COMPONENTES1),\n",
    "    LinearRegression(),\n",
    ") \n",
    "\n",
    "linear_regression_pca1.fit(x_treino1, y_treino1)\n",
    "y_linear_regression_pca1 = linear_regression_pca1.predict(x_teste1)\n",
    "rmse_linear_regression_pca1 = mean_squared_error(y_linear_regression_pca1, y_teste1, squared=False)\n",
    "\n",
    "print(f'O RMSE do modelo de regressão linear com PCA foi de {rmse_linear_regression_pca1}')"
   ]
  },
  {
   "cell_type": "markdown",
   "id": "cbfd0232-6d23-42ae-9e72-46f5091e2e21",
   "metadata": {},
   "source": [
    "### Regressão Linear com PCA"
   ]
  },
  {
   "cell_type": "markdown",
   "id": "4fdef00f-0e32-4ed9-a6a4-7f2dcb1218e7",
   "metadata": {},
   "source": [
    "Treinando um modelo de regressão linear sem PCA:"
   ]
  },
  {
   "cell_type": "code",
   "execution_count": 53,
   "id": "fe89056b-197c-4428-a625-f4fc0d1b054d",
   "metadata": {},
   "outputs": [
    {
     "name": "stdout",
     "output_type": "stream",
     "text": [
      "O RMSE do modelo de regressão linear sem PCA foi de 1.6074312470681722\n"
     ]
    }
   ],
   "source": [
    "linear_regression1 = make_pipeline(\n",
    "    StandardScaler(),\n",
    "    LinearRegression()\n",
    ") \n",
    "\n",
    "linear_regression1.fit(x_treino1, y_treino1)\n",
    "y_linear_regression1 = linear_regression1.predict(x_teste1)\n",
    "rmse_linear_regression1 = mean_squared_error(y_linear_regression1, y_teste1, squared=False)\n",
    "\n",
    "print(f'O RMSE do modelo de regressão linear sem PCA foi de {rmse_linear_regression1}')"
   ]
  },
  {
   "cell_type": "markdown",
   "id": "41c8a09a-76a6-4258-a324-25eccb392ef2",
   "metadata": {},
   "source": [
    "### Floresta Aleatória com PCA"
   ]
  },
  {
   "cell_type": "markdown",
   "id": "17913eda-ee4f-4829-a77b-4da1e8086329",
   "metadata": {},
   "source": [
    "Relizando a otimização de hiperparâmetros com a busca aleatória, pois temos muitas possibilidades de conjuntos de hiperparâmetros:"
   ]
  },
  {
   "cell_type": "code",
   "execution_count": 28,
   "id": "cba53ee6-7c09-4acc-95c2-781ae3292a1e",
   "metadata": {},
   "outputs": [
    {
     "name": "stdout",
     "output_type": "stream",
     "text": [
      "Os melhors hiperparâmetros encontrados para a floresta aleatória foram:\n",
      "{'min_samples_leaf': 2, 'max_leaf_nodes': None, 'max_depth': None}\n",
      "\n",
      "O melhor modelo teve RMSE de 0.9065145969390921\n"
     ]
    }
   ],
   "source": [
    "random_forest1 = RandomForestRegressor(random_state=SEED)\n",
    "\n",
    "grid_random_forest1 = {\n",
    "    'max_depth': [None, 3, 4, 5, 6],\n",
    "    'min_samples_leaf': [1, 2, 5, 10],\n",
    "    'max_leaf_nodes': [None, 10, 20, 30]\n",
    "}\n",
    "\n",
    "search_random_forest1 = RandomizedSearchCV(\n",
    "    random_forest1,\n",
    "    grid_random_forest1,\n",
    "    n_iter=NUM_ITERACOES,\n",
    "    cv=NUM_FOLDS,\n",
    "    scoring=\"neg_root_mean_squared_error\",\n",
    "    refit=True, \n",
    "    n_jobs=4,\n",
    "    random_state=SEED\n",
    ")\n",
    "\n",
    "search_random_forest1.fit(x_treino1, y_treino1)\n",
    "best_params_random_forest1 = search_random_forest1.best_params_\n",
    "\n",
    "print('Os melhors hiperparâmetros encontrados para a floresta aleatória foram:')\n",
    "print(best_params_random_forest1)\n",
    "print()\n",
    "print(f'O melhor modelo teve RMSE de {-search_random_forest1.best_score_}')"
   ]
  },
  {
   "cell_type": "markdown",
   "id": "6b471645-5066-4624-a39a-3740b04b14d3",
   "metadata": {},
   "source": [
    "Treinando o modelo com os melhores hiperparâmetros com todos os dados de treino, e realizando PCA: "
   ]
  },
  {
   "cell_type": "code",
   "execution_count": null,
   "id": "308c3beb-7407-45cb-b791-71fb8253faa8",
   "metadata": {},
   "outputs": [
    {
     "name": "stdout",
     "output_type": "stream",
     "text": [
      "O RMSE do modelo de floresta aleatória com PCA foi de 1.1792616837760732\n"
     ]
    }
   ],
   "source": [
    "random_forest_otimizado_pca1 = make_pipeline(\n",
    "    StandardScaler(),\n",
    "    PCA(NUM_COMPONENTES1),\n",
    "    RandomForestRegressor(\n",
    "        max_depth = best_params_random_forest1['max_depth'],\n",
    "        min_samples_leaf = best_params_random_forest1['min_samples_leaf'],\n",
    "        max_leaf_nodes = best_params_random_forest1['max_leaf_nodes'],\n",
    "        random_state=SEED\n",
    "    )\n",
    ") \n",
    "\n",
    "random_forest_otimizado_pca1.fit(x_treino1, y_treino1)\n",
    "y_random_forest_pca1 = random_forest_otimizado_pca1.predict(x_teste1)\n",
    "rmse_random_forest_pca1 = mean_squared_error(y_random_forest_pca1, y_teste1, squared=False)\n",
    "\n",
    "print(f'O RMSE do modelo de floresta aleatória com PCA foi de {rmse_random_forest_pca1}')"
   ]
  },
  {
   "cell_type": "markdown",
   "id": "bd58cc63-9a9c-4015-acbc-ad923619317f",
   "metadata": {},
   "source": [
    "### Floresta Aleatória sem PCA"
   ]
  },
  {
   "cell_type": "markdown",
   "id": "6f7304a9-80c6-4241-98ba-6d0293e51abb",
   "metadata": {},
   "source": [
    "Treinando a floresta com os melhores hiperparâmetros, mas sem o uso de PCA:"
   ]
  },
  {
   "cell_type": "code",
   "execution_count": 48,
   "id": "0a2a82f5-42be-45ff-adbb-f709b209461d",
   "metadata": {},
   "outputs": [
    {
     "name": "stdout",
     "output_type": "stream",
     "text": [
      "O RMSE do modelo de floresta aleatória sem PCA foi de 0.9431360064101797\n"
     ]
    }
   ],
   "source": [
    "random_forest_otimizado1 = make_pipeline(\n",
    "    StandardScaler(),\n",
    "    RandomForestRegressor(\n",
    "        max_depth = best_params_random_forest1['max_depth'],\n",
    "        min_samples_leaf = best_params_random_forest1['min_samples_leaf'],\n",
    "        max_leaf_nodes = best_params_random_forest1['max_leaf_nodes'],\n",
    "        random_state=SEED\n",
    "    )\n",
    ") \n",
    "\n",
    "random_forest_otimizado1.fit(x_treino1, y_treino1)\n",
    "y_random_forest1 = random_forest_otimizado1.predict(x_teste1)\n",
    "rmse_random_forest1 = mean_squared_error(y_random_forest1, y_teste1, squared=False)\n",
    "\n",
    "print(f'O RMSE do modelo de floresta aleatória sem PCA foi de {rmse_random_forest1}')"
   ]
  },
  {
   "cell_type": "markdown",
   "id": "250ef74e-d1fa-4acc-b7e2-5392a8001fdc",
   "metadata": {
    "tags": []
   },
   "source": [
    "## Caso 2"
   ]
  },
  {
   "cell_type": "markdown",
   "id": "8588c0b5-c07f-429a-abf5-003d98c94b7b",
   "metadata": {},
   "source": [
    "Nesse caso vamos utilizar a proporção molar dos materiais multiplicada pela valor de eletronegatividade como features. Todas as variáveis contém 2 no final, para diferenciar do Caso 1.\n",
    "\n",
    "Os códigos são idênticos ao Caso 1, exceto pela mudança nos features."
   ]
  },
  {
   "cell_type": "markdown",
   "id": "7e374156-b92b-42fa-afc4-8727055ec9bf",
   "metadata": {},
   "source": [
    "### Train-Test Split"
   ]
  },
  {
   "cell_type": "markdown",
   "id": "2e254af7-d180-4b89-8856-318ef0d419f0",
   "metadata": {},
   "source": [
    "Realizando a separação de treino e teste com `TAMANHO_TESTE=0.1`."
   ]
  },
  {
   "cell_type": "code",
   "execution_count": 21,
   "id": "1f971ddf-8986-4ab4-8356-00d2e8f875f3",
   "metadata": {},
   "outputs": [],
   "source": [
    "df2 = df.copy()\n",
    "\n",
    "df2 = df2.reindex(FEATURES2 + TARGET, axis=1)\n",
    "df2 = df2.dropna()  \n",
    "\n",
    "x2 = df2.reindex(FEATURES2, axis=1)\n",
    "y2 = df2.reindex(TARGET, axis=1)\n",
    "\n",
    "x2 = x2.values \n",
    "y2 = y2.values.ravel()\n",
    "\n",
    "x_treino2, x_teste2, y_treino2, y_teste2 = train_test_split(\n",
    "    x2, y2, test_size=TAMANHO_TESTE, random_state=SEED\n",
    ")"
   ]
  },
  {
   "cell_type": "markdown",
   "id": "7248824f-ce55-4892-83c0-f232b082e8b3",
   "metadata": {},
   "source": [
    "### Modelo Baseline"
   ]
  },
  {
   "cell_type": "markdown",
   "id": "3b5ae4c9-795d-435f-ab02-cd7a6b76f4b3",
   "metadata": {},
   "source": [
    "Treinando o modelo baseline:"
   ]
  },
  {
   "cell_type": "code",
   "execution_count": 22,
   "id": "f0f6e64d-2dc0-41ef-8762-aa95088dc6c2",
   "metadata": {},
   "outputs": [
    {
     "name": "stdout",
     "output_type": "stream",
     "text": [
      "O RMSE do modelo baseline foi de 1.7078501743185281\n"
     ]
    }
   ],
   "source": [
    "dummy2 = make_pipeline(\n",
    "    StandardScaler(),\n",
    "    DummyRegressor(),\n",
    ") \n",
    "\n",
    "dummy2.fit(x_treino2, y_treino2)\n",
    "y_dummy2 = dummy2.predict(x_teste2)\n",
    "rmse_dummy2 = mean_squared_error(y_dummy2, y_teste2, squared=False)\n",
    "\n",
    "print(f'O RMSE do modelo baseline foi de {rmse_dummy2}')"
   ]
  },
  {
   "cell_type": "markdown",
   "id": "129e1f4a-81ee-4aff-aa48-09712522eec4",
   "metadata": {
    "tags": []
   },
   "source": [
    "### PCA"
   ]
  },
  {
   "cell_type": "markdown",
   "id": "5674b97f-1b65-44c5-b04f-ba55da3119e3",
   "metadata": {},
   "source": [
    "Primeiro, vamos realizar PCA nos dados `x2` para reduzirmos a dimensionalidade do problema, mantendo 90% da variância do dataset original. "
   ]
  },
  {
   "cell_type": "code",
   "execution_count": 49,
   "id": "f225dbcb-c708-4a84-9544-0ed3e4cc5014",
   "metadata": {},
   "outputs": [
    {
     "data": {
      "image/png": "[encoded data removed]",
      "text/plain": [
       "<Figure size 800x480 with 2 Axes>"
      ]
     },
     "metadata": {},
     "output_type": "display_data"
    }
   ],
   "source": [
    "pca2 = PCA()\n",
    "\n",
    "pca2.fit(x2)\n",
    "\n",
    "autovalores2 = pca2.explained_variance_\n",
    "autovetores2 = pca2.components_.T\n",
    "\n",
    "variancia_explicada2 = pca2.explained_variance_ratio_\n",
    "\n",
    "id_componentes2 = np.arange(1, pca2.n_components_ + 1)\n",
    "\n",
    "figura2, eixos2 = plt.subplots(1, 2)\n",
    "\n",
    "eixos2[0].bar(id_componentes2, variancia_explicada2)\n",
    "eixos2[0].set(xlabel=\"Componente\", title=\"Variância explicada\", ylim=(0.0, 1.0))\n",
    "\n",
    "cv2 = np.cumsum(pca2.explained_variance_ratio_)\n",
    "eixos2[1].plot(np.r_[0, id_componentes2], np.r_[0, cv2], marker=\"o\")\n",
    "eixos2[1].set(\n",
    "    xlabel=\"Número de componentes\",\n",
    "    title=\"Variância acumulada\",\n",
    "    ylim=(0.0, 1.0),\n",
    ")\n",
    "eixos2[1].axhline(0.9, linestyle=\"--\", color=\"red\")\n",
    "\n",
    "figura2.set(figwidth=8)\n",
    "plt.show()"
   ]
  },
  {
   "cell_type": "code",
   "execution_count": 50,
   "id": "45edae78-eaaa-41fb-921f-fddc0ebb7377",
   "metadata": {
    "tags": []
   },
   "outputs": [
    {
     "name": "stdout",
     "output_type": "stream",
     "text": [
      "O número de PCs necessárias para termos mais que 0.9 de variância acumulada é :14\n"
     ]
    }
   ],
   "source": [
    "print(f'O número de PCs necessárias para termos mais que 0.9 de variância acumulada é :{len(cv2)-sum(cv2>0.9)}')"
   ]
  },
  {
   "cell_type": "markdown",
   "id": "024056e9-307f-4462-8845-d02ec3405b9b",
   "metadata": {},
   "source": [
    "Para obtermos uma variância acumulada maior que 0.9, precisamos usar `NUM_COMPONENTES2=14`, nesse caso. "
   ]
  },
  {
   "cell_type": "markdown",
   "id": "4a7a58de-a02b-4fd3-808a-944289b8f793",
   "metadata": {},
   "source": [
    "### Regressão Linear com PCA"
   ]
  },
  {
   "cell_type": "markdown",
   "id": "7d7d9bae-cbb1-47af-9801-6631b244d5da",
   "metadata": {},
   "source": [
    "Treinando um modelo de regressão linear aliado ao PCA, com ajuda da função `make_pipeline`:"
   ]
  },
  {
   "cell_type": "code",
   "execution_count": 52,
   "id": "040d2089-e0dc-4ca4-bee7-0234512925ac",
   "metadata": {},
   "outputs": [
    {
     "name": "stdout",
     "output_type": "stream",
     "text": [
      "O RMSE do modelo de regressão linear com PCA foi de 1.6837870343945067\n"
     ]
    }
   ],
   "source": [
    "NUM_COMPONENTES2 = 14\n",
    "\n",
    "linear_regression_pca2 = make_pipeline(\n",
    "    StandardScaler(),\n",
    "    PCA(NUM_COMPONENTES2),\n",
    "    LinearRegression(),\n",
    ") \n",
    "\n",
    "linear_regression_pca2.fit(x_treino2, y_treino2)\n",
    "y_linear_regression_pca2 = linear_regression_pca2.predict(x_teste2)\n",
    "rmse_linear_regression_pca2 = mean_squared_error(y_linear_regression_pca2, y_teste2, squared=False)\n",
    "\n",
    "print(f'O RMSE do modelo de regressão linear com PCA foi de {rmse_linear_regression_pca2}')"
   ]
  },
  {
   "cell_type": "markdown",
   "id": "fb7a7343-c637-40ea-9335-21f421162653",
   "metadata": {},
   "source": [
    "### Regressão Linear com PCA"
   ]
  },
  {
   "cell_type": "markdown",
   "id": "3bd76f62-ade7-4c11-b4c0-aa15b29fea51",
   "metadata": {},
   "source": [
    "Treinando um modelo de regressão linear sem PCA:"
   ]
  },
  {
   "cell_type": "code",
   "execution_count": 54,
   "id": "926ca746-544a-419c-a11b-e75783bb9af8",
   "metadata": {},
   "outputs": [
    {
     "name": "stdout",
     "output_type": "stream",
     "text": [
      "O RMSE do modelo de regressão linear sem PCA foi de 1.607431247068172\n"
     ]
    }
   ],
   "source": [
    "linear_regression2 = make_pipeline(\n",
    "    StandardScaler(),\n",
    "    LinearRegression()\n",
    ") \n",
    "\n",
    "linear_regression2.fit(x_treino2, y_treino2)\n",
    "y_linear_regression2 = linear_regression2.predict(x_teste2)\n",
    "rmse_linear_regression2 = mean_squared_error(y_linear_regression2, y_teste2, squared=False)\n",
    "\n",
    "print(f'O RMSE do modelo de regressão linear sem PCA foi de {rmse_linear_regression2}')"
   ]
  },
  {
   "cell_type": "markdown",
   "id": "7faab7fb-81df-4b2e-a078-dfa9be21530d",
   "metadata": {},
   "source": [
    "### Floresta Aleatória com PCA"
   ]
  },
  {
   "cell_type": "markdown",
   "id": "7325f82b-4d95-4e63-a459-40400bf071d9",
   "metadata": {},
   "source": [
    "Relizando a otimização de hiperparâmetros com a busca aleatória, pois temos muitas possibilidades de conjuntos de hiperparâmetros:"
   ]
  },
  {
   "cell_type": "code",
   "execution_count": 55,
   "id": "4ed14134-8516-4f7d-83c9-1857930b68e1",
   "metadata": {},
   "outputs": [
    {
     "name": "stdout",
     "output_type": "stream",
     "text": [
      "Os melhors hiperparâmetros encontrados para a floresta aleatória foram:\n",
      "{'min_samples_leaf': 2, 'max_leaf_nodes': None, 'max_depth': None}\n",
      "\n",
      "O melhor modelo teve RMSE de 0.9044473146817584\n"
     ]
    }
   ],
   "source": [
    "random_forest2 = RandomForestRegressor(random_state=SEED)\n",
    "\n",
    "grid_random_forest2 = {\n",
    "    'max_depth': [None, 3, 4, 5, 6],\n",
    "    'min_samples_leaf': [1, 2, 5, 10],\n",
    "    'max_leaf_nodes': [None, 10, 20, 30]\n",
    "}\n",
    "\n",
    "search_random_forest2 = RandomizedSearchCV(\n",
    "    random_forest2,\n",
    "    grid_random_forest2,\n",
    "    n_iter=NUM_ITERACOES,\n",
    "    cv=NUM_FOLDS,\n",
    "    scoring=\"neg_root_mean_squared_error\",\n",
    "    refit=True, \n",
    "    n_jobs=4,\n",
    "    random_state=SEED\n",
    ")\n",
    "\n",
    "search_random_forest2.fit(x_treino2, y_treino2)\n",
    "best_params_random_forest2 = search_random_forest2.best_params_\n",
    "\n",
    "print('Os melhors hiperparâmetros encontrados para a floresta aleatória foram:')\n",
    "print(best_params_random_forest2)\n",
    "print()\n",
    "print(f'O melhor modelo teve RMSE de {-search_random_forest2.best_score_}')"
   ]
  },
  {
   "cell_type": "markdown",
   "id": "7929e0bb-add4-4c49-b106-ca0f72a216db",
   "metadata": {},
   "source": [
    "Treinando o modelo com os melhores hiperparâmetros com todos os dados de treino, e realizando PCA: "
   ]
  },
  {
   "cell_type": "code",
   "execution_count": 56,
   "id": "956aca3e-c990-4ee6-8d35-c8bc4e18e34e",
   "metadata": {},
   "outputs": [
    {
     "name": "stdout",
     "output_type": "stream",
     "text": [
      "O RMSE do modelo de floresta aleatória com PCA foi de 1.3044624278579706\n"
     ]
    }
   ],
   "source": [
    "random_forest_otimizado_pca2 = make_pipeline(\n",
    "    StandardScaler(),\n",
    "    PCA(NUM_COMPONENTES2),\n",
    "    RandomForestRegressor(\n",
    "        max_depth = best_params_random_forest2['max_depth'],\n",
    "        min_samples_leaf = best_params_random_forest2['min_samples_leaf'],\n",
    "        max_leaf_nodes = best_params_random_forest2['max_leaf_nodes'],\n",
    "        random_state=SEED\n",
    "    )\n",
    ") \n",
    "\n",
    "random_forest_otimizado_pca2.fit(x_treino2, y_treino2)\n",
    "y_random_forest_pca2 = random_forest_otimizado_pca2.predict(x_teste2)\n",
    "rmse_random_forest_pca2 = mean_squared_error(y_random_forest_pca2, y_teste2, squared=False)\n",
    "\n",
    "print(f'O RMSE do modelo de floresta aleatória com PCA foi de {rmse_random_forest_pca2}')"
   ]
  },
  {
   "cell_type": "markdown",
   "id": "db80e8ea-5de4-49fd-b7c8-b66615e13dd2",
   "metadata": {},
   "source": [
    "### Floresta Aleatória sem PCA"
   ]
  },
  {
   "cell_type": "markdown",
   "id": "8288a7af-17e8-4e9b-8db3-972ba57ce09c",
   "metadata": {},
   "source": [
    "Treinando a floresta com os melhores hiperparâmetros, mas sem o uso de PCA:"
   ]
  },
  {
   "cell_type": "code",
   "execution_count": 57,
   "id": "03054b6d-0374-41c0-bf27-00518dad8260",
   "metadata": {},
   "outputs": [
    {
     "name": "stdout",
     "output_type": "stream",
     "text": [
      "O RMSE do modelo de floresta aleatória sem PCA foi de 0.9431360064101797\n"
     ]
    }
   ],
   "source": [
    "random_forest_otimizado2 = make_pipeline(\n",
    "    StandardScaler(),\n",
    "    RandomForestRegressor(\n",
    "        max_depth = best_params_random_forest2['max_depth'],\n",
    "        min_samples_leaf = best_params_random_forest2['min_samples_leaf'],\n",
    "        max_leaf_nodes = best_params_random_forest2['max_leaf_nodes'],\n",
    "        random_state=SEED\n",
    "    )\n",
    ") \n",
    "\n",
    "random_forest_otimizado2.fit(x_treino2, y_treino2)\n",
    "y_random_forest2 = random_forest_otimizado2.predict(x_teste2)\n",
    "rmse_random_forest2 = mean_squared_error(y_random_forest2, y_teste2, squared=False)\n",
    "\n",
    "print(f'O RMSE do modelo de floresta aleatória sem PCA foi de {rmse_random_forest2}')"
   ]
  },
  {
   "cell_type": "markdown",
   "id": "f3104725-b26c-4eab-99b0-4fade39bd65b",
   "metadata": {},
   "source": [
    "Realizando PCA nos dados `x2` para reduzirmos a dimensionalidade do problema. "
   ]
  },
  {
   "cell_type": "code",
   "execution_count": 23,
   "id": "b4da82e9-fc17-4d01-a847-c52e36e1f019",
   "metadata": {},
   "outputs": [
    {
     "data": {
      "image/png": "[encoded data removed]",
      "text/plain": [
       "<Figure size 800x480 with 2 Axes>"
      ]
     },
     "metadata": {},
     "output_type": "display_data"
    }
   ],
   "source": [
    "pca2 = PCA()\n",
    "\n",
    "pca2.fit(x2)\n",
    "\n",
    "autovalores2 = pca2.explained_variance_\n",
    "autovetores2 = pca2.components_.T\n",
    "\n",
    "variancia_explicada2 = pca2.explained_variance_ratio_\n",
    "\n",
    "id_componentes2 = np.arange(1, pca2.n_components_ + 1)\n",
    "\n",
    "figura2, eixos2 = plt.subplots(1, 2)\n",
    "\n",
    "eixos2[0].bar(id_componentes2, variancia_explicada2)\n",
    "eixos2[0].set(xlabel=\"Componente\", title=\"Variância explicada\", ylim=(0.0, 1.0))\n",
    "\n",
    "cv2 = np.cumsum(pca2.explained_variance_ratio_)\n",
    "eixos2[1].plot(np.r_[0, id_componentes2], np.r_[0, cv2], marker=\"o\")\n",
    "eixos2[1].set(\n",
    "    xlabel=\"Número de componentes\",\n",
    "    title=\"Variância acumulada\",\n",
    "    ylim=(0.0, 1.0),\n",
    ")\n",
    "eixos2[1].axhline(0.9, linestyle=\"--\", color=\"red\")\n",
    "\n",
    "figura2.set(figwidth=8)\n",
    "plt.show()"
   ]
  },
  {
   "cell_type": "code",
   "execution_count": 24,
   "id": "2fc056e3-a260-4301-bbfb-5320cc1c1c61",
   "metadata": {
    "tags": []
   },
   "outputs": [
    {
     "name": "stdout",
     "output_type": "stream",
     "text": [
      "O número de PCs necessárias para termos mais que 0.9 de variância acumulada é :14\n"
     ]
    }
   ],
   "source": [
    "print(f'O número de PCs necessárias para termos mais que 0.9 de variância acumulada é :{len(cv2)-sum(cv2>0.9)}')"
   ]
  },
  {
   "cell_type": "markdown",
   "id": "654179af-5bd6-4640-b088-2b3f6827a30c",
   "metadata": {},
   "source": [
    "Para obtermos uma variância acumulada maior que 0.9, precisamos usar `num_componentes2=14`, nesse caso. \n",
    "\n",
    "Treinando o modelo de regressão linear:"
   ]
  },
  {
   "cell_type": "code",
   "execution_count": 25,
   "id": "86f843d5-7649-437a-b343-c7edf67a9299",
   "metadata": {},
   "outputs": [
    {
     "name": "stdout",
     "output_type": "stream",
     "text": [
      "O RMSE do modelo de regressão linear com PCA foi de 1.675806950504875\n"
     ]
    }
   ],
   "source": [
    "num_componentes2 = 14\n",
    "\n",
    "linear_regression2 = make_pipeline(\n",
    "    StandardScaler(),\n",
    "    PCA(num_componentes2),\n",
    "    LinearRegression(),\n",
    ") \n",
    "\n",
    "linear_regression2.fit(x_treino2, y_treino2)\n",
    "y_linear_regression2 = linear_regression2.predict(x_teste2)\n",
    "rmse_linear_regression2 = mean_squared_error(y_linear_regression2, y_teste2, squared=False)\n",
    "\n",
    "print(f'O RMSE do modelo de regressão linear com PCA foi de {rmse_linear_regression2}')"
   ]
  },
  {
   "cell_type": "markdown",
   "id": "e4f69136-0d17-444f-b1be-44b24767e0f2",
   "metadata": {},
   "source": [
    "Otimizando os hiperparâmetros da floresta aleatória:"
   ]
  },
  {
   "cell_type": "code",
   "execution_count": 26,
   "id": "216560e8-b0c9-4a3d-8901-eb0bf09ec514",
   "metadata": {},
   "outputs": [
    {
     "name": "stdout",
     "output_type": "stream",
     "text": [
      "Os melhors hiperparâmetros encontrados para a floresta aleatória foram:\n",
      "{'min_samples_leaf': 2, 'max_leaf_nodes': None, 'max_depth': None}\n",
      "\n",
      "O melhor modelo teve RMSE de 0.9044473146817584\n"
     ]
    }
   ],
   "source": [
    "random_forest2 = RandomForestRegressor(random_state=SEED)\n",
    "\n",
    "grid_random_forest2 = {\n",
    "    'max_depth': [None, 3, 4, 5, 6],\n",
    "    'min_samples_leaf': [1, 2, 5, 10],\n",
    "    'max_leaf_nodes': [None, 10, 20, 30]\n",
    "}\n",
    "\n",
    "search_random_forest2 = RandomizedSearchCV(\n",
    "    random_forest2,\n",
    "    grid_random_forest2,\n",
    "    n_iter=NUM_ITERACOES,\n",
    "    cv=NUM_FOLDS,\n",
    "    scoring=\"neg_root_mean_squared_error\",\n",
    "    refit=True, \n",
    "    n_jobs=4,\n",
    "    random_state=SEED\n",
    ")\n",
    "\n",
    "search_random_forest2.fit(x_treino2, y_treino2)\n",
    "best_params_random_forest2 = search_random_forest2.best_params_\n",
    "\n",
    "print('Os melhors hiperparâmetros encontrados para a floresta aleatória foram:')\n",
    "print(best_params_random_forest2)\n",
    "print()\n",
    "print(f'O melhor modelo teve RMSE de {-search_random_forest2.best_score_}')"
   ]
  },
  {
   "cell_type": "markdown",
   "id": "db4e6813-1964-4c11-8500-4a7f33813d80",
   "metadata": {},
   "source": [
    "Treinando o modelo com os melhores hiperparâmetros e com todos os dados de treino: "
   ]
  },
  {
   "cell_type": "code",
   "execution_count": 27,
   "id": "130eabbb-a357-4dc9-82de-de81013be717",
   "metadata": {},
   "outputs": [
    {
     "name": "stdout",
     "output_type": "stream",
     "text": [
      "O RMSE do modelo de floresta aleatória foi de 0.9431360064101797\n"
     ]
    }
   ],
   "source": [
    "random_forest_otimizado2 = make_pipeline(\n",
    "    StandardScaler(),\n",
    "    RandomForestRegressor(\n",
    "        max_depth = best_params_random_forest2['max_depth'],\n",
    "        min_samples_leaf = best_params_random_forest2['min_samples_leaf'],\n",
    "        max_leaf_nodes = best_params_random_forest2['max_leaf_nodes'],\n",
    "        random_state=SEED\n",
    "    )\n",
    ") \n",
    "\n",
    "random_forest_otimizado2.fit(x_treino2, y_treino2)\n",
    "y_random_forest2 = random_forest_otimizado2.predict(x_teste2)\n",
    "rmse_random_forest2 = mean_squared_error(y_random_forest2, y_teste2, squared=False)\n",
    "\n",
    "print(f'O RMSE do modelo de floresta aleatória foi de {rmse_random_forest2}')"
   ]
  },
  {
   "cell_type": "markdown",
   "id": "f61f2a11-5b29-4375-9f5c-5f0c122abc32",
   "metadata": {},
   "source": [
    "## Resultados e Discussão "
   ]
  },
  {
   "cell_type": "code",
   "execution_count": 60,
   "id": "cf4ed29f-c57f-40c1-bdde-40f99185dcbe",
   "metadata": {},
   "outputs": [
    {
     "name": "stdout",
     "output_type": "stream",
     "text": [
      "O modelo de regressão linear obteve performances no caso 1 de: 1.6074312470681722 sem PCA e 1.6557109123179221 com PCA\n",
      "O modelo de regressão linear obteve performances no caso 2 de: 1.607431247068172 sem PCA e 1.6837870343945067 com PCA\n",
      "\n",
      "O modelo de floresta aleatória obteve performances no caso 1 de: 0.9431360064101797 sem PCA e 1.1792616837760732 com PCA\n",
      "O modelo de floresta aleatória obteve performances no caso 2 de: 0.9431360064101797 sem PCA e 1.3044624278579706 com PCA\n"
     ]
    }
   ],
   "source": [
    "print(f'O modelo de regressão linear obteve performances no caso 1 de: {rmse_linear_regression1} sem PCA e {rmse_linear_regression_pca1} com PCA')\n",
    "print(f'O modelo de regressão linear obteve performances no caso 2 de: {rmse_linear_regression2} sem PCA e {rmse_linear_regression_pca2} com PCA')\n",
    "print()\n",
    "print(f'O modelo de floresta aleatória obteve performances no caso 1 de: {rmse_random_forest1} sem PCA e {rmse_random_forest_pca1} com PCA')\n",
    "print(f'O modelo de floresta aleatória obteve performances no caso 2 de: {rmse_random_forest2} sem PCA e {rmse_random_forest_pca2} com PCA')"
   ]
  },
  {
   "cell_type": "markdown",
   "id": "9e09c89e-afe9-417d-b9b4-82bae7e93ff1",
   "metadata": {},
   "source": [
    "Primeiramente, podemos observar que ambos os modelos de regressão linear e floresta aleatória obtiveram a mesma performance nos casos 1 e 2. Isso reflete que a eletronegatividade dos átomos não trouxe nenhuma informação nova para a predição dos valores de band gap dos materiais. \n",
    "\n",
    "Outro fato que podemos destacar é que todos os modelos pioraram após a redução de dimensionalidade feita após o PCA. Os modelos lineares perderam pouca performance, porém, as florestas aleatórias pioraram muito sua performance após o PCA. Isso pode significar que a perda da informação durante a redução de dimensionalidade tenha afetado negativamente os modelos, talvez pela forma por como o dataset foi construído. Porém, um fato curioso é de que no caso 1, precisamos de 30 PCs para obtermos 90% de variância total dos features iniciais, enquanto no caso 2 precisamos apenas de 14 PCs, ou seja, de alguma forma a eletronegatividade pode ter ajudado a agrupar mais informação após o PCA.\n",
    "\n",
    "Por fim, podemos ver que o modelo de floresta aleatória foi o melhor modelo, independente do caso ou do uso ou não de PCA, em relação ao modelos lineares. Dessa forma, podemos concluir que a relação de proporção molar e eletronegatividade dos materiais com o band gap não é linear. Como as florestas aleatórias são compostas de árvores de decisão, elas conseguem repartir os dados em subespaços, sendo muito boas em capturar relações que são extremamente complexas entre os features e o target. "
   ]
  },
  {
   "cell_type": "markdown",
   "id": "39316796-ab75-4d17-acc6-08262274bdaf",
   "metadata": {},
   "source": [
    "## Conclusão"
   ]
  },
  {
   "cell_type": "markdown",
   "id": "ce55fc54-e062-4946-af89-b2884171a76e",
   "metadata": {},
   "source": [
    "Após a análise dos resultados, concluímos que dados os modelos e estratégias utilizadas, a eletronegatividade dos átomos não melhorou a predição dos valores de band gap de materiais semicondutores. Também concluímos que a relação da proporção molar (junto ou não da eletronegatividade) dos elementos químicos presentes em um material é melhor previsto pelo modelo de floresta aleatória, não possuindo uma relação linear entre essas duas grandezas.\n",
    "\n",
    "Para futuros trabalhos poderíamos explorar outros features que influenciem no band gap de um material, que agregassem mais informação para os modelos de florestas aleatórias. Outro ponto que poderia ser explorado é a diferença de variância acumulada após o PCA dos dois casos, e explorar se caso a eletronegatividade dos átomos não poderia ser utilizada de outra forma nesses modelos, ou se realmente essa hipótese é grosseira demais para se traduzir em alguma predição confiável."
   ]
  },
  {
   "cell_type": "markdown",
   "id": "c23ca8c9-d37b-45dc-8a85-f42ed0a793e3",
   "metadata": {},
   "source": [
    "## Referências"
   ]
  },
  {
   "cell_type": "markdown",
   "id": "0f2bd67d-4b60-43a3-bc5c-b4dd9adc3cf7",
   "metadata": {},
   "source": [
    "- https://hackingmaterials.lbl.gov/matminer/ (documentação do `matminer`)\n",
    "- https://pymatgen.org/ (documentação do `pymatgen`)\n",
    "- https://pypi.org/project/mendeleev/ (documentação do `mendeleev`)\n",
    "- https://hackingmaterials.lbl.gov/matminer/dataset_summary.html#ucsb-thermoelectrics (página do dataset `ucsb_thermoelectrics`)\n",
    "- https://pt.wikipedia.org/wiki/It%C3%A9rbio (eletronegatividade do Yb)\n",
    "- https://pt.wikipedia.org/wiki/T%C3%A9rbio (eletronegatividade do Tb)\n",
    "- https://en.wikipedia.org/wiki/Europium (eletronegatividade do Eu)\n",
    "- https://pt.wikipedia.org/wiki/Prom%C3%A9cio (eletronegatividade do Pm)\n",
    "- Notebook \"8 - Seleção de atributos.ipynb\" da disciplina de aprendizado de máquina"
   ]
  }
 ],
 "metadata": {
  "kernelspec": {
   "display_name": "ilumpy",
   "language": "python",
   "name": "ilumpy"
  },
  "language_info": {
   "codemirror_mode": {
    "name": "ipython",
    "version": 3
   },
   "file_extension": ".py",
   "mimetype": "text/x-python",
   "name": "python",
   "nbconvert_exporter": "python",
   "pygments_lexer": "ipython3",
   "version": "3.10.8"
  }
 },
 "nbformat": 4,
 "nbformat_minor": 5
}
